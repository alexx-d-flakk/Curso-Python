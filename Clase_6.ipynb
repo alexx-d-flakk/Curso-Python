{
  "cells": [
    {
      "cell_type": "markdown",
      "metadata": {
        "id": "VWXZkot0_x8a"
      },
      "source": [
        "# Redes Neuronales"
      ]
    },
    {
      "cell_type": "code",
      "execution_count": 1,
      "metadata": {
        "id": "BIgq7WbX_C0U"
      },
      "outputs": [],
      "source": [
        "import numpy as np"
      ]
    },
    {
      "cell_type": "code",
      "execution_count": 4,
      "metadata": {
        "id": "EbCUcBmR_uTm"
      },
      "outputs": [],
      "source": [
        "import pandas as pd"
      ]
    },
    {
      "cell_type": "code",
      "execution_count": 5,
      "metadata": {
        "id": "riHJx9ew_6Z0"
      },
      "outputs": [],
      "source": [
        "from keras.models import Sequential\n",
        "from keras.layers import Dense"
      ]
    },
    {
      "cell_type": "code",
      "execution_count": null,
      "metadata": {
        "id": "ATTrOau0Ae1S"
      },
      "outputs": [],
      "source": [
        "diabetes_train = pd.read_csv('/content/diabetes_train.csv')\n",
        "diabetes_train"
      ]
    },
    {
      "cell_type": "code",
      "execution_count": null,
      "metadata": {
        "id": "okWlyNN6A_VH"
      },
      "outputs": [],
      "source": [
        "X = diabetes_train.iloc[ : ,0:8].values\n",
        "X"
      ]
    },
    {
      "cell_type": "code",
      "execution_count": null,
      "metadata": {
        "id": "MBb8966SB0lE"
      },
      "outputs": [],
      "source": [
        "y = diabetes_train.iloc[ : , 8 ].values\n",
        "y"
      ]
    },
    {
      "cell_type": "markdown",
      "metadata": {
        "id": "bZThLpTGC6Dg"
      },
      "source": [
        "## Definir la estructura de la Red Neuronal"
      ]
    },
    {
      "cell_type": "code",
      "execution_count": 16,
      "metadata": {
        "id": "xHsCXGS7CUwQ"
      },
      "outputs": [],
      "source": [
        "model = Sequential()"
      ]
    },
    {
      "cell_type": "code",
      "execution_count": 17,
      "metadata": {
        "id": "JHizYZk7DG2r"
      },
      "outputs": [],
      "source": [
        "model.add(Dense(12, input_dim=8, activation = 'relu'))"
      ]
    },
    {
      "cell_type": "code",
      "execution_count": 18,
      "metadata": {
        "id": "rX6dQdFPDXlU"
      },
      "outputs": [],
      "source": [
        "model.add(Dense(8, activation = 'relu'))"
      ]
    },
    {
      "cell_type": "code",
      "execution_count": 19,
      "metadata": {
        "id": "2zjx-IAhDilY"
      },
      "outputs": [],
      "source": [
        "model.add(Dense(1, activation= 'sigmoid'))"
      ]
    },
    {
      "cell_type": "markdown",
      "metadata": {
        "id": "8N0MR1F1D8sA"
      },
      "source": [
        "## Modelo de compilacion de la Red"
      ]
    },
    {
      "cell_type": "code",
      "execution_count": 22,
      "metadata": {
        "id": "m2gh4-wLDst8"
      },
      "outputs": [],
      "source": [
        "model.compile(\n",
        "    loss='binary_crossentropy',\n",
        "    optimizer='adam',\n",
        "    metrics=['accuracy']\n",
        ")"
      ]
    },
    {
      "cell_type": "markdown",
      "metadata": {
        "id": "mviHp1-sEqCT"
      },
      "source": [
        "## Entrenamiento de una Red Neuronal"
      ]
    },
    {
      "cell_type": "code",
      "execution_count": null,
      "metadata": {
        "id": "EqR6XoXjElVV"
      },
      "outputs": [],
      "source": [
        "historial = model.fit(X, y, epochs=1000, batch_size=10)"
      ]
    },
    {
      "cell_type": "code",
      "execution_count": null,
      "metadata": {
        "id": "oi16iXU0FDmo"
      },
      "outputs": [],
      "source": []
    },
    {
      "cell_type": "markdown",
      "metadata": {
        "id": "Vo84RCORHZSL"
      },
      "source": [
        "## Visualizar funcion de perdida"
      ]
    },
    {
      "cell_type": "code",
      "execution_count": null,
      "metadata": {
        "id": "TqCCIqgAHdW1"
      },
      "outputs": [],
      "source": [
        "import matplotlib.pyplot as plt\n",
        "\n",
        "plt.xlabel(\"# Epoca\")\n",
        "plt.ylabel(\"Funcion de perdida\")\n",
        "\n",
        "plt.plot(historial.history['loss'])"
      ]
    },
    {
      "cell_type": "code",
      "execution_count": null,
      "metadata": {
        "id": "c6Qpnb35HcC6"
      },
      "outputs": [],
      "source": [
        "diabetes_test = pd.read_csv('/content/diabetes_test.csv')\n",
        "diabetes_test"
      ]
    },
    {
      "cell_type": "code",
      "execution_count": null,
      "metadata": {
        "id": "9MGpb4DlJHRB"
      },
      "outputs": [],
      "source": [
        "X_test = diabetes_test.iloc[ : ,0:8].values\n",
        "X_test"
      ]
    },
    {
      "cell_type": "code",
      "execution_count": null,
      "metadata": {
        "id": "R_YmKRl-Jdsx"
      },
      "outputs": [],
      "source": [
        "y_test = diabetes_test.iloc[ : , -1 ].values\n",
        "y_test"
      ]
    },
    {
      "cell_type": "code",
      "execution_count": null,
      "metadata": {
        "id": "BeRHWvdKJf3u"
      },
      "outputs": [],
      "source": [
        "model.evaluate(X_test, y_test)"
      ]
    },
    {
      "cell_type": "code",
      "execution_count": null,
      "metadata": {
        "id": "QgxUwgMkKAk0"
      },
      "outputs": [],
      "source": [
        "y_pred = model.predict(X_test)\n",
        "np.round(y_pred)"
      ]
    },
    {
      "cell_type": "code",
      "execution_count": null,
      "metadata": {
        "id": "NXGOV9ucKlmE"
      },
      "outputs": [],
      "source": [
        "resultados = pd.DataFrame(np.round(y_pred), columns=['Prediccion'])\n",
        "resultados['Real'] = pd.Series(y_test)\n",
        "resultados"
      ]
    },
    {
      "cell_type": "code",
      "execution_count": 44,
      "metadata": {
        "id": "AhwaU-oYLb-h"
      },
      "outputs": [],
      "source": [
        "from sklearn.metrics import confusion_matrix, ConfusionMatrixDisplay"
      ]
    },
    {
      "cell_type": "code",
      "execution_count": 45,
      "metadata": {
        "id": "cG2RE4TEMNx3"
      },
      "outputs": [],
      "source": [
        "matrix = confusion_matrix(resultados['Real'],resultados['Prediccion'])"
      ]
    },
    {
      "cell_type": "code",
      "execution_count": 1,
      "metadata": {
        "colab": {
          "base_uri": "https://localhost:8080/",
          "height": 183
        },
        "id": "WVCQ7JVAMgyN",
        "outputId": "d76c264c-46e3-4cfd-a47b-1bb960183e12"
      },
      "outputs": [
        {
          "ename": "NameError",
          "evalue": "ignored",
          "output_type": "error",
          "traceback": [
            "\u001b[0;31m---------------------------------------------------------------------------\u001b[0m",
            "\u001b[0;31mNameError\u001b[0m                                 Traceback (most recent call last)",
            "\u001b[0;32m<ipython-input-1-da9c8e28aa14>\u001b[0m in \u001b[0;36m<module>\u001b[0;34m\u001b[0m\n\u001b[0;32m----> 1\u001b[0;31m \u001b[0mdisp\u001b[0m \u001b[0;34m=\u001b[0m \u001b[0mConfusionMatrixDisplay\u001b[0m\u001b[0;34m(\u001b[0m\u001b[0mmatrix\u001b[0m\u001b[0;34m)\u001b[0m\u001b[0;34m\u001b[0m\u001b[0;34m\u001b[0m\u001b[0m\n\u001b[0m\u001b[1;32m      2\u001b[0m \u001b[0mdisp\u001b[0m\u001b[0;34m.\u001b[0m\u001b[0mplot\u001b[0m\u001b[0;34m(\u001b[0m\u001b[0;34m)\u001b[0m\u001b[0;34m\u001b[0m\u001b[0;34m\u001b[0m\u001b[0m\n",
            "\u001b[0;31mNameError\u001b[0m: name 'ConfusionMatrixDisplay' is not defined"
          ]
        }
      ],
      "source": [
        "disp = ConfusionMatrixDisplay(matrix)\n",
        "disp.plot()"
      ]
    },
    {
      "cell_type": "code",
      "execution_count": null,
      "metadata": {
        "id": "pEoneRKwNLdS"
      },
      "outputs": [],
      "source": []
    }
  ],
  "metadata": {
    "colab": {
      "provenance": []
    },
    "kernelspec": {
      "display_name": "Python 3",
      "language": "python",
      "name": "python3"
    },
    "language_info": {
      "name": "python",
      "version": "3.11.0 (main, Oct 24 2022, 18:26:48) [MSC v.1933 64 bit (AMD64)]"
    },
    "vscode": {
      "interpreter": {
        "hash": "7058db0eea7517eebc54c5e877814ee815b97dfacbeaa46ee5c8f48b80054028"
      }
    }
  },
  "nbformat": 4,
  "nbformat_minor": 0
}
